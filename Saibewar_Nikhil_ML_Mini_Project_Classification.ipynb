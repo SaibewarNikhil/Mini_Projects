{
 "cells": [
  {
   "cell_type": "markdown",
   "id": "36195ab4",
   "metadata": {},
   "source": [
    "# Classification House Grade Prediction"
   ]
  },
  {
   "cell_type": "markdown",
   "id": "499fc52f",
   "metadata": {},
   "source": [
    "### ----------------------------------------------------------------------------------------------------------------------------------"
   ]
  },
  {
   "cell_type": "markdown",
   "id": "73b98421",
   "metadata": {},
   "source": [
    "##  Overview of House Grade Classification \n",
    "Property buyers have different requirements. To facilitate this, real estate companies prefer categorizing\n",
    "various houses into different grades based on various parameters. This would help agents in identifying\n",
    "the type of house a customer is looking for. This way, the search for the house can be narrowed down\n",
    "by focusing only on the ‘condition of the house’.\n",
    "\n",
    "The Grade (condition of the house that ranges from A (Best) — E (Worst) ) can also be used by existing\n",
    "owners to list their properties for sale. Grading helps them in arriving at a price of the house.\n"
   ]
  },
  {
   "cell_type": "markdown",
   "id": "7160b4cd",
   "metadata": {},
   "source": [
    "## Business Objective\n",
    "Build a predictive model to determine the Grade of house(The grade are A,B,C,D, and E)."
   ]
  },
  {
   "cell_type": "markdown",
   "id": "142ee8ce",
   "metadata": {},
   "source": [
    "## Technical Goals\n",
    "Understand the data very well. Do all transformations / data engineering / etc. wherever applicable\n",
    "\n",
    "Perform Exploratory Data Analysis (EDA)\n",
    "\n",
    "Carry out all the Data mining tasks\n",
    "\n",
    "Identify the salient features that will determine the best results\n",
    "\n",
    "Perform the model evaluation to select the best algorithms"
   ]
  },
  {
   "cell_type": "markdown",
   "id": "5906b9f0",
   "metadata": {},
   "source": [
    "### ---------------------------------------------------------------------------------------------------------------------------------"
   ]
  },
  {
   "cell_type": "markdown",
   "id": "4026fb31",
   "metadata": {},
   "source": [
    "#### Import all the necessary libraries"
   ]
  },
  {
   "cell_type": "code",
   "execution_count": 1,
   "id": "6e40595f",
   "metadata": {},
   "outputs": [],
   "source": [
    "import numpy as np\n",
    "import pandas as pd\n",
    "import matplotlib.pyplot as plt\n",
    "import seaborn as sns\n",
    "import warnings \n",
    "warnings.filterwarnings('ignore')"
   ]
  },
  {
   "cell_type": "markdown",
   "id": "81b7614e",
   "metadata": {},
   "source": [
    "#### Load the data"
   ]
  },
  {
   "cell_type": "code",
   "execution_count": 2,
   "id": "515a7fd7",
   "metadata": {},
   "outputs": [],
   "source": [
    "df=pd.read_csv('DS3_C6_S2_Classification_HouseGrade_Data_Project.csv')"
   ]
  },
  {
   "cell_type": "markdown",
   "id": "040241fc",
   "metadata": {},
   "source": [
    "#### Insights from the data"
   ]
  },
  {
   "cell_type": "code",
   "execution_count": 3,
   "id": "e63cc16f",
   "metadata": {},
   "outputs": [
    {
     "data": {
      "text/html": [
       "<div>\n",
       "<style scoped>\n",
       "    .dataframe tbody tr th:only-of-type {\n",
       "        vertical-align: middle;\n",
       "    }\n",
       "\n",
       "    .dataframe tbody tr th {\n",
       "        vertical-align: top;\n",
       "    }\n",
       "\n",
       "    .dataframe thead th {\n",
       "        text-align: right;\n",
       "    }\n",
       "</style>\n",
       "<table border=\"1\" class=\"dataframe\">\n",
       "  <thead>\n",
       "    <tr style=\"text-align: right;\">\n",
       "      <th></th>\n",
       "      <th>Id</th>\n",
       "      <th>Area(total)</th>\n",
       "      <th>Trooms</th>\n",
       "      <th>Nbedrooms</th>\n",
       "      <th>Nbwashrooms</th>\n",
       "      <th>Twashrooms</th>\n",
       "      <th>roof</th>\n",
       "      <th>Roof(Area)</th>\n",
       "      <th>Lawn(Area)</th>\n",
       "      <th>Nfloors</th>\n",
       "      <th>API</th>\n",
       "      <th>ANB</th>\n",
       "      <th>Expected price</th>\n",
       "      <th>Grade</th>\n",
       "    </tr>\n",
       "  </thead>\n",
       "  <tbody>\n",
       "    <tr>\n",
       "      <th>0</th>\n",
       "      <td>1</td>\n",
       "      <td>339</td>\n",
       "      <td>6</td>\n",
       "      <td>5</td>\n",
       "      <td>4</td>\n",
       "      <td>6</td>\n",
       "      <td>NO</td>\n",
       "      <td>0</td>\n",
       "      <td>76</td>\n",
       "      <td>2</td>\n",
       "      <td>79</td>\n",
       "      <td>6</td>\n",
       "      <td>3481</td>\n",
       "      <td>D</td>\n",
       "    </tr>\n",
       "    <tr>\n",
       "      <th>1</th>\n",
       "      <td>2</td>\n",
       "      <td>358</td>\n",
       "      <td>5</td>\n",
       "      <td>4</td>\n",
       "      <td>3</td>\n",
       "      <td>4</td>\n",
       "      <td>YES</td>\n",
       "      <td>71</td>\n",
       "      <td>96</td>\n",
       "      <td>3</td>\n",
       "      <td>72</td>\n",
       "      <td>4</td>\n",
       "      <td>3510</td>\n",
       "      <td>D</td>\n",
       "    </tr>\n",
       "    <tr>\n",
       "      <th>2</th>\n",
       "      <td>3</td>\n",
       "      <td>324</td>\n",
       "      <td>7</td>\n",
       "      <td>5</td>\n",
       "      <td>4</td>\n",
       "      <td>5</td>\n",
       "      <td>YES</td>\n",
       "      <td>101</td>\n",
       "      <td>117</td>\n",
       "      <td>5</td>\n",
       "      <td>64</td>\n",
       "      <td>3</td>\n",
       "      <td>3748</td>\n",
       "      <td>C</td>\n",
       "    </tr>\n",
       "    <tr>\n",
       "      <th>3</th>\n",
       "      <td>4</td>\n",
       "      <td>330</td>\n",
       "      <td>6</td>\n",
       "      <td>4</td>\n",
       "      <td>3</td>\n",
       "      <td>5</td>\n",
       "      <td>YES</td>\n",
       "      <td>101</td>\n",
       "      <td>82</td>\n",
       "      <td>2</td>\n",
       "      <td>59</td>\n",
       "      <td>2</td>\n",
       "      <td>3134</td>\n",
       "      <td>D</td>\n",
       "    </tr>\n",
       "    <tr>\n",
       "      <th>4</th>\n",
       "      <td>5</td>\n",
       "      <td>320</td>\n",
       "      <td>7</td>\n",
       "      <td>4</td>\n",
       "      <td>4</td>\n",
       "      <td>5</td>\n",
       "      <td>NO</td>\n",
       "      <td>0</td>\n",
       "      <td>75</td>\n",
       "      <td>3</td>\n",
       "      <td>40</td>\n",
       "      <td>1</td>\n",
       "      <td>3843</td>\n",
       "      <td>D</td>\n",
       "    </tr>\n",
       "  </tbody>\n",
       "</table>\n",
       "</div>"
      ],
      "text/plain": [
       "   Id  Area(total)  Trooms  Nbedrooms  Nbwashrooms  Twashrooms roof  \\\n",
       "0   1          339       6          5            4           6   NO   \n",
       "1   2          358       5          4            3           4  YES   \n",
       "2   3          324       7          5            4           5  YES   \n",
       "3   4          330       6          4            3           5  YES   \n",
       "4   5          320       7          4            4           5   NO   \n",
       "\n",
       "   Roof(Area)  Lawn(Area)  Nfloors  API  ANB  Expected price Grade  \n",
       "0           0          76        2   79    6            3481     D  \n",
       "1          71          96        3   72    4            3510     D  \n",
       "2         101         117        5   64    3            3748     C  \n",
       "3         101          82        2   59    2            3134     D  \n",
       "4           0          75        3   40    1            3843     D  "
      ]
     },
     "execution_count": 3,
     "metadata": {},
     "output_type": "execute_result"
    }
   ],
   "source": [
    "#Checking first five records of data\n",
    "df.head()"
   ]
  },
  {
   "cell_type": "code",
   "execution_count": 4,
   "id": "b0a1a617",
   "metadata": {},
   "outputs": [
    {
     "data": {
      "text/html": [
       "<div>\n",
       "<style scoped>\n",
       "    .dataframe tbody tr th:only-of-type {\n",
       "        vertical-align: middle;\n",
       "    }\n",
       "\n",
       "    .dataframe tbody tr th {\n",
       "        vertical-align: top;\n",
       "    }\n",
       "\n",
       "    .dataframe thead th {\n",
       "        text-align: right;\n",
       "    }\n",
       "</style>\n",
       "<table border=\"1\" class=\"dataframe\">\n",
       "  <thead>\n",
       "    <tr style=\"text-align: right;\">\n",
       "      <th></th>\n",
       "      <th>Id</th>\n",
       "      <th>Area(total)</th>\n",
       "      <th>Trooms</th>\n",
       "      <th>Nbedrooms</th>\n",
       "      <th>Nbwashrooms</th>\n",
       "      <th>Twashrooms</th>\n",
       "      <th>roof</th>\n",
       "      <th>Roof(Area)</th>\n",
       "      <th>Lawn(Area)</th>\n",
       "      <th>Nfloors</th>\n",
       "      <th>API</th>\n",
       "      <th>ANB</th>\n",
       "      <th>Expected price</th>\n",
       "      <th>Grade</th>\n",
       "    </tr>\n",
       "  </thead>\n",
       "  <tbody>\n",
       "    <tr>\n",
       "      <th>2995</th>\n",
       "      <td>2996</td>\n",
       "      <td>341</td>\n",
       "      <td>9</td>\n",
       "      <td>6</td>\n",
       "      <td>5</td>\n",
       "      <td>7</td>\n",
       "      <td>YES</td>\n",
       "      <td>95</td>\n",
       "      <td>115</td>\n",
       "      <td>5</td>\n",
       "      <td>90</td>\n",
       "      <td>2</td>\n",
       "      <td>4246</td>\n",
       "      <td>B</td>\n",
       "    </tr>\n",
       "    <tr>\n",
       "      <th>2996</th>\n",
       "      <td>2997</td>\n",
       "      <td>292</td>\n",
       "      <td>9</td>\n",
       "      <td>8</td>\n",
       "      <td>7</td>\n",
       "      <td>8</td>\n",
       "      <td>YES</td>\n",
       "      <td>116</td>\n",
       "      <td>87</td>\n",
       "      <td>7</td>\n",
       "      <td>97</td>\n",
       "      <td>4</td>\n",
       "      <td>3753</td>\n",
       "      <td>A</td>\n",
       "    </tr>\n",
       "    <tr>\n",
       "      <th>2997</th>\n",
       "      <td>2998</td>\n",
       "      <td>328</td>\n",
       "      <td>7</td>\n",
       "      <td>4</td>\n",
       "      <td>3</td>\n",
       "      <td>5</td>\n",
       "      <td>NO</td>\n",
       "      <td>0</td>\n",
       "      <td>78</td>\n",
       "      <td>5</td>\n",
       "      <td>95</td>\n",
       "      <td>6</td>\n",
       "      <td>3607</td>\n",
       "      <td>D</td>\n",
       "    </tr>\n",
       "    <tr>\n",
       "      <th>2998</th>\n",
       "      <td>2999</td>\n",
       "      <td>293</td>\n",
       "      <td>9</td>\n",
       "      <td>7</td>\n",
       "      <td>7</td>\n",
       "      <td>8</td>\n",
       "      <td>NO</td>\n",
       "      <td>0</td>\n",
       "      <td>78</td>\n",
       "      <td>7</td>\n",
       "      <td>51</td>\n",
       "      <td>3</td>\n",
       "      <td>4198</td>\n",
       "      <td>B</td>\n",
       "    </tr>\n",
       "    <tr>\n",
       "      <th>2999</th>\n",
       "      <td>3000</td>\n",
       "      <td>343</td>\n",
       "      <td>7</td>\n",
       "      <td>6</td>\n",
       "      <td>6</td>\n",
       "      <td>8</td>\n",
       "      <td>NO</td>\n",
       "      <td>0</td>\n",
       "      <td>108</td>\n",
       "      <td>5</td>\n",
       "      <td>95</td>\n",
       "      <td>3</td>\n",
       "      <td>4105</td>\n",
       "      <td>C</td>\n",
       "    </tr>\n",
       "  </tbody>\n",
       "</table>\n",
       "</div>"
      ],
      "text/plain": [
       "        Id  Area(total)  Trooms  Nbedrooms  Nbwashrooms  Twashrooms roof  \\\n",
       "2995  2996          341       9          6            5           7  YES   \n",
       "2996  2997          292       9          8            7           8  YES   \n",
       "2997  2998          328       7          4            3           5   NO   \n",
       "2998  2999          293       9          7            7           8   NO   \n",
       "2999  3000          343       7          6            6           8   NO   \n",
       "\n",
       "      Roof(Area)  Lawn(Area)  Nfloors  API  ANB  Expected price Grade  \n",
       "2995          95         115        5   90    2            4246     B  \n",
       "2996         116          87        7   97    4            3753     A  \n",
       "2997           0          78        5   95    6            3607     D  \n",
       "2998           0          78        7   51    3            4198     B  \n",
       "2999           0         108        5   95    3            4105     C  "
      ]
     },
     "execution_count": 4,
     "metadata": {},
     "output_type": "execute_result"
    }
   ],
   "source": [
    "# Checking last five records of data\n",
    "df.tail()"
   ]
  },
  {
   "cell_type": "markdown",
   "id": "716e2457",
   "metadata": {},
   "source": [
    "####  Checking the structure of data"
   ]
  },
  {
   "cell_type": "code",
   "execution_count": 5,
   "id": "8c61d682",
   "metadata": {},
   "outputs": [
    {
     "data": {
      "text/plain": [
       "(3000, 14)"
      ]
     },
     "execution_count": 5,
     "metadata": {},
     "output_type": "execute_result"
    }
   ],
   "source": [
    "df.shape"
   ]
  },
  {
   "cell_type": "markdown",
   "id": "f432572a",
   "metadata": {},
   "source": [
    "#### Summarize the data"
   ]
  },
  {
   "cell_type": "code",
   "execution_count": 6,
   "id": "add7ee2a",
   "metadata": {},
   "outputs": [
    {
     "data": {
      "text/html": [
       "<div>\n",
       "<style scoped>\n",
       "    .dataframe tbody tr th:only-of-type {\n",
       "        vertical-align: middle;\n",
       "    }\n",
       "\n",
       "    .dataframe tbody tr th {\n",
       "        vertical-align: top;\n",
       "    }\n",
       "\n",
       "    .dataframe thead th {\n",
       "        text-align: right;\n",
       "    }\n",
       "</style>\n",
       "<table border=\"1\" class=\"dataframe\">\n",
       "  <thead>\n",
       "    <tr style=\"text-align: right;\">\n",
       "      <th></th>\n",
       "      <th>count</th>\n",
       "      <th>mean</th>\n",
       "      <th>std</th>\n",
       "      <th>min</th>\n",
       "      <th>25%</th>\n",
       "      <th>50%</th>\n",
       "      <th>75%</th>\n",
       "      <th>max</th>\n",
       "    </tr>\n",
       "  </thead>\n",
       "  <tbody>\n",
       "    <tr>\n",
       "      <th>Id</th>\n",
       "      <td>3000.0</td>\n",
       "      <td>1500.500000</td>\n",
       "      <td>866.169729</td>\n",
       "      <td>1.0</td>\n",
       "      <td>750.75</td>\n",
       "      <td>1500.5</td>\n",
       "      <td>2250.25</td>\n",
       "      <td>3000.0</td>\n",
       "    </tr>\n",
       "    <tr>\n",
       "      <th>Area(total)</th>\n",
       "      <td>3000.0</td>\n",
       "      <td>325.117000</td>\n",
       "      <td>20.507742</td>\n",
       "      <td>290.0</td>\n",
       "      <td>308.00</td>\n",
       "      <td>325.0</td>\n",
       "      <td>343.00</td>\n",
       "      <td>360.0</td>\n",
       "    </tr>\n",
       "    <tr>\n",
       "      <th>Trooms</th>\n",
       "      <td>3000.0</td>\n",
       "      <td>7.021667</td>\n",
       "      <td>1.421221</td>\n",
       "      <td>5.0</td>\n",
       "      <td>6.00</td>\n",
       "      <td>7.0</td>\n",
       "      <td>8.00</td>\n",
       "      <td>9.0</td>\n",
       "    </tr>\n",
       "    <tr>\n",
       "      <th>Nbedrooms</th>\n",
       "      <td>3000.0</td>\n",
       "      <td>5.023000</td>\n",
       "      <td>1.634838</td>\n",
       "      <td>2.0</td>\n",
       "      <td>4.00</td>\n",
       "      <td>5.0</td>\n",
       "      <td>6.00</td>\n",
       "      <td>8.0</td>\n",
       "    </tr>\n",
       "    <tr>\n",
       "      <th>Nbwashrooms</th>\n",
       "      <td>3000.0</td>\n",
       "      <td>4.513667</td>\n",
       "      <td>1.715263</td>\n",
       "      <td>1.0</td>\n",
       "      <td>3.00</td>\n",
       "      <td>4.0</td>\n",
       "      <td>6.00</td>\n",
       "      <td>8.0</td>\n",
       "    </tr>\n",
       "    <tr>\n",
       "      <th>Twashrooms</th>\n",
       "      <td>3000.0</td>\n",
       "      <td>6.010667</td>\n",
       "      <td>1.786136</td>\n",
       "      <td>2.0</td>\n",
       "      <td>5.00</td>\n",
       "      <td>6.0</td>\n",
       "      <td>7.00</td>\n",
       "      <td>10.0</td>\n",
       "    </tr>\n",
       "    <tr>\n",
       "      <th>Roof(Area)</th>\n",
       "      <td>3000.0</td>\n",
       "      <td>48.980667</td>\n",
       "      <td>48.746641</td>\n",
       "      <td>0.0</td>\n",
       "      <td>0.00</td>\n",
       "      <td>71.0</td>\n",
       "      <td>96.00</td>\n",
       "      <td>120.0</td>\n",
       "    </tr>\n",
       "    <tr>\n",
       "      <th>Lawn(Area)</th>\n",
       "      <td>3000.0</td>\n",
       "      <td>95.609333</td>\n",
       "      <td>14.837388</td>\n",
       "      <td>70.0</td>\n",
       "      <td>83.00</td>\n",
       "      <td>96.0</td>\n",
       "      <td>109.00</td>\n",
       "      <td>120.0</td>\n",
       "    </tr>\n",
       "    <tr>\n",
       "      <th>Nfloors</th>\n",
       "      <td>3000.0</td>\n",
       "      <td>4.013333</td>\n",
       "      <td>1.621532</td>\n",
       "      <td>1.0</td>\n",
       "      <td>3.00</td>\n",
       "      <td>4.0</td>\n",
       "      <td>5.00</td>\n",
       "      <td>7.0</td>\n",
       "    </tr>\n",
       "    <tr>\n",
       "      <th>API</th>\n",
       "      <td>3000.0</td>\n",
       "      <td>70.190667</td>\n",
       "      <td>17.563460</td>\n",
       "      <td>40.0</td>\n",
       "      <td>55.00</td>\n",
       "      <td>70.0</td>\n",
       "      <td>85.00</td>\n",
       "      <td>100.0</td>\n",
       "    </tr>\n",
       "    <tr>\n",
       "      <th>ANB</th>\n",
       "      <td>3000.0</td>\n",
       "      <td>3.479000</td>\n",
       "      <td>1.694260</td>\n",
       "      <td>1.0</td>\n",
       "      <td>2.00</td>\n",
       "      <td>4.0</td>\n",
       "      <td>5.00</td>\n",
       "      <td>6.0</td>\n",
       "    </tr>\n",
       "    <tr>\n",
       "      <th>Expected price</th>\n",
       "      <td>3000.0</td>\n",
       "      <td>3782.938333</td>\n",
       "      <td>567.189995</td>\n",
       "      <td>2504.0</td>\n",
       "      <td>3354.00</td>\n",
       "      <td>3771.0</td>\n",
       "      <td>4208.00</td>\n",
       "      <td>5216.0</td>\n",
       "    </tr>\n",
       "  </tbody>\n",
       "</table>\n",
       "</div>"
      ],
      "text/plain": [
       "                 count         mean         std     min      25%     50%  \\\n",
       "Id              3000.0  1500.500000  866.169729     1.0   750.75  1500.5   \n",
       "Area(total)     3000.0   325.117000   20.507742   290.0   308.00   325.0   \n",
       "Trooms          3000.0     7.021667    1.421221     5.0     6.00     7.0   \n",
       "Nbedrooms       3000.0     5.023000    1.634838     2.0     4.00     5.0   \n",
       "Nbwashrooms     3000.0     4.513667    1.715263     1.0     3.00     4.0   \n",
       "Twashrooms      3000.0     6.010667    1.786136     2.0     5.00     6.0   \n",
       "Roof(Area)      3000.0    48.980667   48.746641     0.0     0.00    71.0   \n",
       "Lawn(Area)      3000.0    95.609333   14.837388    70.0    83.00    96.0   \n",
       "Nfloors         3000.0     4.013333    1.621532     1.0     3.00     4.0   \n",
       "API             3000.0    70.190667   17.563460    40.0    55.00    70.0   \n",
       "ANB             3000.0     3.479000    1.694260     1.0     2.00     4.0   \n",
       "Expected price  3000.0  3782.938333  567.189995  2504.0  3354.00  3771.0   \n",
       "\n",
       "                    75%     max  \n",
       "Id              2250.25  3000.0  \n",
       "Area(total)      343.00   360.0  \n",
       "Trooms             8.00     9.0  \n",
       "Nbedrooms          6.00     8.0  \n",
       "Nbwashrooms        6.00     8.0  \n",
       "Twashrooms         7.00    10.0  \n",
       "Roof(Area)        96.00   120.0  \n",
       "Lawn(Area)       109.00   120.0  \n",
       "Nfloors            5.00     7.0  \n",
       "API               85.00   100.0  \n",
       "ANB                5.00     6.0  \n",
       "Expected price  4208.00  5216.0  "
      ]
     },
     "execution_count": 6,
     "metadata": {},
     "output_type": "execute_result"
    }
   ],
   "source": [
    "df.describe().T"
   ]
  },
  {
   "cell_type": "markdown",
   "id": "7a85777d",
   "metadata": {},
   "source": [
    "#### Checking info of data"
   ]
  },
  {
   "cell_type": "code",
   "execution_count": 7,
   "id": "433af5c3",
   "metadata": {},
   "outputs": [
    {
     "name": "stdout",
     "output_type": "stream",
     "text": [
      "<class 'pandas.core.frame.DataFrame'>\n",
      "RangeIndex: 3000 entries, 0 to 2999\n",
      "Data columns (total 14 columns):\n",
      " #   Column          Non-Null Count  Dtype \n",
      "---  ------          --------------  ----- \n",
      " 0   Id              3000 non-null   int64 \n",
      " 1   Area(total)     3000 non-null   int64 \n",
      " 2   Trooms          3000 non-null   int64 \n",
      " 3   Nbedrooms       3000 non-null   int64 \n",
      " 4   Nbwashrooms     3000 non-null   int64 \n",
      " 5   Twashrooms      3000 non-null   int64 \n",
      " 6   roof            3000 non-null   object\n",
      " 7   Roof(Area)      3000 non-null   int64 \n",
      " 8   Lawn(Area)      3000 non-null   int64 \n",
      " 9   Nfloors         3000 non-null   int64 \n",
      " 10  API             3000 non-null   int64 \n",
      " 11  ANB             3000 non-null   int64 \n",
      " 12  Expected price  3000 non-null   int64 \n",
      " 13  Grade           3000 non-null   object\n",
      "dtypes: int64(12), object(2)\n",
      "memory usage: 328.2+ KB\n"
     ]
    }
   ],
   "source": [
    "df.info()"
   ]
  },
  {
   "cell_type": "markdown",
   "id": "8ce39265",
   "metadata": {},
   "source": [
    "#### Null value check"
   ]
  },
  {
   "cell_type": "code",
   "execution_count": 8,
   "id": "02adbad3",
   "metadata": {},
   "outputs": [
    {
     "data": {
      "text/plain": [
       "Id                0\n",
       "Area(total)       0\n",
       "Trooms            0\n",
       "Nbedrooms         0\n",
       "Nbwashrooms       0\n",
       "Twashrooms        0\n",
       "roof              0\n",
       "Roof(Area)        0\n",
       "Lawn(Area)        0\n",
       "Nfloors           0\n",
       "API               0\n",
       "ANB               0\n",
       "Expected price    0\n",
       "Grade             0\n",
       "dtype: int64"
      ]
     },
     "execution_count": 8,
     "metadata": {},
     "output_type": "execute_result"
    }
   ],
   "source": [
    "df.isnull().sum()"
   ]
  },
  {
   "cell_type": "markdown",
   "id": "bfebfa8a",
   "metadata": {},
   "source": [
    "#### There is no null value in the data."
   ]
  },
  {
   "cell_type": "markdown",
   "id": "777662ca",
   "metadata": {},
   "source": [
    "#### Checking dtypes of data."
   ]
  },
  {
   "cell_type": "code",
   "execution_count": 9,
   "id": "ecdb01fd",
   "metadata": {},
   "outputs": [
    {
     "data": {
      "text/plain": [
       "Id                 int64\n",
       "Area(total)        int64\n",
       "Trooms             int64\n",
       "Nbedrooms          int64\n",
       "Nbwashrooms        int64\n",
       "Twashrooms         int64\n",
       "roof              object\n",
       "Roof(Area)         int64\n",
       "Lawn(Area)         int64\n",
       "Nfloors            int64\n",
       "API                int64\n",
       "ANB                int64\n",
       "Expected price     int64\n",
       "Grade             object\n",
       "dtype: object"
      ]
     },
     "execution_count": 9,
     "metadata": {},
     "output_type": "execute_result"
    }
   ],
   "source": [
    "df.dtypes"
   ]
  },
  {
   "cell_type": "markdown",
   "id": "60211559",
   "metadata": {},
   "source": [
    "### Exploratory Data Analysis"
   ]
  },
  {
   "cell_type": "markdown",
   "id": "61f6d329",
   "metadata": {},
   "source": [
    "* 1) Which type of Houses(Grades) are sold more?"
   ]
  },
  {
   "cell_type": "code",
   "execution_count": 10,
   "id": "cd7ce31f",
   "metadata": {},
   "outputs": [
    {
     "data": {
      "image/png": "[encoded data removed]",
      "text/plain": [
       "<Figure size 500x400 with 1 Axes>"
      ]
     },
     "metadata": {},
     "output_type": "display_data"
    }
   ],
   "source": [
    "fig,ax=plt.subplots(figsize=(5,4))\n",
    "sns.countplot(x=df.Grade)\n",
    "plt.xlabel('Grades')\n",
    "plt.ylabel('Count of Grades')\n",
    "plt.show()"
   ]
  },
  {
   "cell_type": "markdown",
   "id": "bde7b8ec",
   "metadata": {},
   "source": [
    "* From the above viz:\n",
    "* D graded houses are owned more(Maximum)\n",
    "* and E graded houses are less owned(minimum)\n",
    "* Maximum number of customers are willing to have houses like D,C grades."
   ]
  },
  {
   "cell_type": "markdown",
   "id": "c048e2be",
   "metadata": {},
   "source": [
    "* 2)What type of BedRooms are purchasing more(2b,3b,4b,etc)?"
   ]
  },
  {
   "cell_type": "code",
   "execution_count": 11,
   "id": "bac79310",
   "metadata": {},
   "outputs": [
    {
     "data": {
      "image/png": "[encoded data removed]",
      "text/plain": [
       "<Figure size 1000x500 with 2 Axes>"
      ]
     },
     "metadata": {},
     "output_type": "display_data"
    }
   ],
   "source": [
    "fig,ax=plt.subplots(1,2,figsize=(10,5))\n",
    "ax[0].set_title('count of rooms')\n",
    "ax[1].set_title('Percentage of rooms')\n",
    "percentage=df['Nbedrooms'].value_counts()\n",
    "\n",
    "sns.countplot(x=df['Nbedrooms'],ax=ax[0])\n",
    "plt.pie(percentage,labels=percentage.index,autopct='%0.2f%%')\n",
    "plt.show()"
   ]
  },
  {
   "cell_type": "markdown",
   "id": "8577376d",
   "metadata": {},
   "source": [
    "* From the above viz:\n",
    "* Customers wise bedrooms, so most number of customers are having 4 and 5 bedroom houses.\n",
    "* less number of customers are willing to buy 2 and 8 bedroom houses."
   ]
  },
  {
   "cell_type": "markdown",
   "id": "b2a99b86",
   "metadata": {},
   "source": [
    "* 3)What types of bathrooms are purchasing more?"
   ]
  },
  {
   "cell_type": "code",
   "execution_count": 12,
   "id": "2df47156",
   "metadata": {},
   "outputs": [
    {
     "data": {
      "image/png": "[encoded data removed]",
      "text/plain": [
       "<Figure size 1000x500 with 2 Axes>"
      ]
     },
     "metadata": {},
     "output_type": "display_data"
    }
   ],
   "source": [
    "fig,ax=plt.subplots(1,2,figsize=(10,5))\n",
    "ax[0].set_title('count of Twashrooms')\n",
    "ax[1].set_title('Percentage of Twashrooms')\n",
    "percentage=df['Twashrooms'].value_counts()\n",
    "\n",
    "sns.countplot(x=df['Twashrooms'],ax=ax[0])\n",
    "plt.pie(percentage,labels=percentage.index,autopct='%0.2f%%')\n",
    "plt.show()"
   ]
  },
  {
   "cell_type": "markdown",
   "id": "51bde90c",
   "metadata": {},
   "source": [
    "* From the above viz:\n",
    "* Maximum number of customers are having 5,6 washrooms, so houses with 5,6 washrooms are sold more.\n",
    "* and houses with 2,10 washrooms are sold less."
   ]
  },
  {
   "cell_type": "markdown",
   "id": "192bce8b",
   "metadata": {},
   "source": [
    "* 4)How much area is most likely purchasing by customers?"
   ]
  },
  {
   "cell_type": "code",
   "execution_count": 13,
   "id": "b79af594",
   "metadata": {},
   "outputs": [
    {
     "data": {
      "image/png": "[encoded data removed]",
      "text/plain": [
       "<Figure size 800x500 with 1 Axes>"
      ]
     },
     "metadata": {},
     "output_type": "display_data"
    }
   ],
   "source": [
    "fig,ax=plt.subplots(figsize=(8,5))\n",
    "bins=[260,280,300,320,340,360,380,400]\n",
    "sns.histplot(df['Area(total)'],bins=bins,ax=ax)\n",
    "ax.set_title('Distribution of Area')\n",
    "plt.show()"
   ]
  },
  {
   "cell_type": "markdown",
   "id": "676c5929",
   "metadata": {},
   "source": [
    "* From the above viz distribution of customers withrespect to total area.\n",
    "* Maximumn number of customers are distributed in the area of 300 to 360.\n",
    "* very less customers are distributed with area of 360-380."
   ]
  },
  {
   "cell_type": "markdown",
   "id": "43ab157e",
   "metadata": {},
   "source": [
    "* 5)What is the distribution of Expected Price?"
   ]
  },
  {
   "cell_type": "code",
   "execution_count": 14,
   "id": "b1efbfe2",
   "metadata": {},
   "outputs": [
    {
     "data": {
      "image/png": "[encoded data removed]",
      "text/plain": [
       "<Figure size 800x500 with 1 Axes>"
      ]
     },
     "metadata": {},
     "output_type": "display_data"
    }
   ],
   "source": [
    "fig,ax=plt.subplots(figsize=(8,5))\n",
    "sns.histplot(df['Expected price'],ax=ax,color='orange')\n",
    "ax.set_title('Distribution of Expected Price')\n",
    "plt.show()"
   ]
  },
  {
   "cell_type": "markdown",
   "id": "ec83dd37",
   "metadata": {},
   "source": [
    "* From the above viz is the distribution of Expected Price.\n",
    "* Maximum number of customers are distributed between 3500 to 4000 price rate.\n",
    "* There are less number of customer distributed below price rate of 3000 and above 5000."
   ]
  },
  {
   "cell_type": "markdown",
   "id": "ca6e5093",
   "metadata": {},
   "source": [
    "* 6)What is the percentage of people likely to buy house with and without roof?"
   ]
  },
  {
   "cell_type": "code",
   "execution_count": 15,
   "id": "67d35076",
   "metadata": {},
   "outputs": [
    {
     "data": {
      "image/png": "[encoded data removed]",
      "text/plain": [
       "<Figure size 1000x500 with 2 Axes>"
      ]
     },
     "metadata": {},
     "output_type": "display_data"
    }
   ],
   "source": [
    "fig,ax=plt.subplots(1,2 ,figsize=(10,5))\n",
    "ax[0].set_title('Count of customers in terms of roof')\n",
    "ax[1].set_title('Percentage of roof')\n",
    "percentage=df['roof'].value_counts()\n",
    "\n",
    "sns.countplot(x=df['roof'],ax=ax[0])\n",
    "plt.pie(percentage,labels=percentage.index,autopct='%0.2f%%')\n",
    "plt.show()"
   ]
  },
  {
   "cell_type": "markdown",
   "id": "e911a94a",
   "metadata": {},
   "source": [
    "* From the above viz which is customers count with and without roof.\n",
    "* So my observation from the above charts,I think there is not much change in the sales of house with roof."
   ]
  },
  {
   "cell_type": "markdown",
   "id": "d52cd3fc",
   "metadata": {},
   "source": [
    "* 7) What is the relatiship of roof with Grade?"
   ]
  },
  {
   "cell_type": "code",
   "execution_count": 16,
   "id": "632bcaa0",
   "metadata": {},
   "outputs": [
    {
     "data": {
      "image/png": "[encoded data removed]",
      "text/plain": [
       "<Figure size 700x400 with 1 Axes>"
      ]
     },
     "metadata": {},
     "output_type": "display_data"
    }
   ],
   "source": [
    "fig,ax=plt.subplots(figsize=(7,4))\n",
    "sns.countplot(x='Grade',hue='roof',data=df)\n",
    "ax.set_title('Grade WTR Roof')\n",
    "plt.show()"
   ]
  },
  {
   "cell_type": "markdown",
   "id": "e6dd86aa",
   "metadata": {},
   "source": [
    "### Simple Summary from EDA:"
   ]
  },
  {
   "cell_type": "markdown",
   "id": "2a505432",
   "metadata": {},
   "source": [
    "* Most selling types of houses in terms of grade are D and C.\n",
    "* Houses with 4,5 bedrooms are maximum sold.\n",
    "* Houses with 5,6 washrooms are maximum sold.\n",
    "* Area of houses with 300 to 360 are maximum sold.\n",
    "* And i think roof of the house is not effecting the sales of house.\n",
    "* Maximum number of customers are distributed between expected price of 3500 to 4000."
   ]
  },
  {
   "cell_type": "markdown",
   "id": "045be056",
   "metadata": {},
   "source": [
    "#### Encoding"
   ]
  },
  {
   "cell_type": "code",
   "execution_count": 17,
   "id": "f85421be",
   "metadata": {},
   "outputs": [],
   "source": [
    "from sklearn.preprocessing import LabelEncoder\n",
    "le=LabelEncoder()"
   ]
  },
  {
   "cell_type": "code",
   "execution_count": 18,
   "id": "93e6185d",
   "metadata": {},
   "outputs": [],
   "source": [
    "obj=df.select_dtypes(include='object')\n",
    "for i in obj:\n",
    "    df[i]=le.fit_transform(df[i])"
   ]
  },
  {
   "cell_type": "markdown",
   "id": "d1f83f2c",
   "metadata": {},
   "source": [
    "#### Checking Correlation of features"
   ]
  },
  {
   "cell_type": "code",
   "execution_count": 19,
   "id": "42145ff6",
   "metadata": {},
   "outputs": [
    {
     "data": {
      "text/html": [
       "<div>\n",
       "<style scoped>\n",
       "    .dataframe tbody tr th:only-of-type {\n",
       "        vertical-align: middle;\n",
       "    }\n",
       "\n",
       "    .dataframe tbody tr th {\n",
       "        vertical-align: top;\n",
       "    }\n",
       "\n",
       "    .dataframe thead th {\n",
       "        text-align: right;\n",
       "    }\n",
       "</style>\n",
       "<table border=\"1\" class=\"dataframe\">\n",
       "  <thead>\n",
       "    <tr style=\"text-align: right;\">\n",
       "      <th></th>\n",
       "      <th>Id</th>\n",
       "      <th>Area(total)</th>\n",
       "      <th>Trooms</th>\n",
       "      <th>Nbedrooms</th>\n",
       "      <th>Nbwashrooms</th>\n",
       "      <th>Twashrooms</th>\n",
       "      <th>roof</th>\n",
       "      <th>Roof(Area)</th>\n",
       "      <th>Lawn(Area)</th>\n",
       "      <th>Nfloors</th>\n",
       "      <th>API</th>\n",
       "      <th>ANB</th>\n",
       "      <th>Expected price</th>\n",
       "      <th>Grade</th>\n",
       "    </tr>\n",
       "  </thead>\n",
       "  <tbody>\n",
       "    <tr>\n",
       "      <th>Id</th>\n",
       "      <td>1.000000</td>\n",
       "      <td>0.003186</td>\n",
       "      <td>0.003165</td>\n",
       "      <td>0.004814</td>\n",
       "      <td>0.003496</td>\n",
       "      <td>0.001092</td>\n",
       "      <td>0.011059</td>\n",
       "      <td>0.013046</td>\n",
       "      <td>0.006309</td>\n",
       "      <td>-0.010939</td>\n",
       "      <td>-0.003739</td>\n",
       "      <td>-0.013219</td>\n",
       "      <td>0.009216</td>\n",
       "      <td>-0.006074</td>\n",
       "    </tr>\n",
       "    <tr>\n",
       "      <th>Area(total)</th>\n",
       "      <td>0.003186</td>\n",
       "      <td>1.000000</td>\n",
       "      <td>0.019041</td>\n",
       "      <td>0.031328</td>\n",
       "      <td>0.031819</td>\n",
       "      <td>0.038509</td>\n",
       "      <td>0.014229</td>\n",
       "      <td>0.017029</td>\n",
       "      <td>-0.002118</td>\n",
       "      <td>0.016819</td>\n",
       "      <td>-0.000182</td>\n",
       "      <td>-0.010846</td>\n",
       "      <td>0.274507</td>\n",
       "      <td>-0.177332</td>\n",
       "    </tr>\n",
       "    <tr>\n",
       "      <th>Trooms</th>\n",
       "      <td>0.003165</td>\n",
       "      <td>0.019041</td>\n",
       "      <td>1.000000</td>\n",
       "      <td>0.865878</td>\n",
       "      <td>0.827072</td>\n",
       "      <td>0.794870</td>\n",
       "      <td>0.025142</td>\n",
       "      <td>0.026550</td>\n",
       "      <td>0.009557</td>\n",
       "      <td>0.862367</td>\n",
       "      <td>0.007502</td>\n",
       "      <td>0.007321</td>\n",
       "      <td>0.820170</td>\n",
       "      <td>-0.875145</td>\n",
       "    </tr>\n",
       "    <tr>\n",
       "      <th>Nbedrooms</th>\n",
       "      <td>0.004814</td>\n",
       "      <td>0.031328</td>\n",
       "      <td>0.865878</td>\n",
       "      <td>1.000000</td>\n",
       "      <td>0.956578</td>\n",
       "      <td>0.919158</td>\n",
       "      <td>0.023058</td>\n",
       "      <td>0.025073</td>\n",
       "      <td>0.000054</td>\n",
       "      <td>0.742132</td>\n",
       "      <td>0.002820</td>\n",
       "      <td>0.015403</td>\n",
       "      <td>0.715687</td>\n",
       "      <td>-0.865389</td>\n",
       "    </tr>\n",
       "    <tr>\n",
       "      <th>Nbwashrooms</th>\n",
       "      <td>0.003496</td>\n",
       "      <td>0.031819</td>\n",
       "      <td>0.827072</td>\n",
       "      <td>0.956578</td>\n",
       "      <td>1.000000</td>\n",
       "      <td>0.960007</td>\n",
       "      <td>0.028549</td>\n",
       "      <td>0.028832</td>\n",
       "      <td>0.006617</td>\n",
       "      <td>0.711936</td>\n",
       "      <td>0.011413</td>\n",
       "      <td>0.008475</td>\n",
       "      <td>0.683659</td>\n",
       "      <td>-0.847319</td>\n",
       "    </tr>\n",
       "    <tr>\n",
       "      <th>Twashrooms</th>\n",
       "      <td>0.001092</td>\n",
       "      <td>0.038509</td>\n",
       "      <td>0.794870</td>\n",
       "      <td>0.919158</td>\n",
       "      <td>0.960007</td>\n",
       "      <td>1.000000</td>\n",
       "      <td>0.028212</td>\n",
       "      <td>0.028763</td>\n",
       "      <td>0.008386</td>\n",
       "      <td>0.684966</td>\n",
       "      <td>0.012361</td>\n",
       "      <td>0.016492</td>\n",
       "      <td>0.654627</td>\n",
       "      <td>-0.819280</td>\n",
       "    </tr>\n",
       "    <tr>\n",
       "      <th>roof</th>\n",
       "      <td>0.011059</td>\n",
       "      <td>0.014229</td>\n",
       "      <td>0.025142</td>\n",
       "      <td>0.023058</td>\n",
       "      <td>0.028549</td>\n",
       "      <td>0.028212</td>\n",
       "      <td>1.000000</td>\n",
       "      <td>0.976561</td>\n",
       "      <td>-0.004640</td>\n",
       "      <td>0.014985</td>\n",
       "      <td>-0.007983</td>\n",
       "      <td>-0.020511</td>\n",
       "      <td>0.007880</td>\n",
       "      <td>-0.166635</td>\n",
       "    </tr>\n",
       "    <tr>\n",
       "      <th>Roof(Area)</th>\n",
       "      <td>0.013046</td>\n",
       "      <td>0.017029</td>\n",
       "      <td>0.026550</td>\n",
       "      <td>0.025073</td>\n",
       "      <td>0.028832</td>\n",
       "      <td>0.028763</td>\n",
       "      <td>0.976561</td>\n",
       "      <td>1.000000</td>\n",
       "      <td>-0.006831</td>\n",
       "      <td>0.013840</td>\n",
       "      <td>-0.006331</td>\n",
       "      <td>-0.015529</td>\n",
       "      <td>0.009346</td>\n",
       "      <td>-0.170259</td>\n",
       "    </tr>\n",
       "    <tr>\n",
       "      <th>Lawn(Area)</th>\n",
       "      <td>0.006309</td>\n",
       "      <td>-0.002118</td>\n",
       "      <td>0.009557</td>\n",
       "      <td>0.000054</td>\n",
       "      <td>0.006617</td>\n",
       "      <td>0.008386</td>\n",
       "      <td>-0.004640</td>\n",
       "      <td>-0.006831</td>\n",
       "      <td>1.000000</td>\n",
       "      <td>0.013771</td>\n",
       "      <td>0.011477</td>\n",
       "      <td>0.025751</td>\n",
       "      <td>0.011561</td>\n",
       "      <td>-0.051200</td>\n",
       "    </tr>\n",
       "    <tr>\n",
       "      <th>Nfloors</th>\n",
       "      <td>-0.010939</td>\n",
       "      <td>0.016819</td>\n",
       "      <td>0.862367</td>\n",
       "      <td>0.742132</td>\n",
       "      <td>0.711936</td>\n",
       "      <td>0.684966</td>\n",
       "      <td>0.014985</td>\n",
       "      <td>0.013840</td>\n",
       "      <td>0.013771</td>\n",
       "      <td>1.000000</td>\n",
       "      <td>-0.002255</td>\n",
       "      <td>0.020614</td>\n",
       "      <td>0.714598</td>\n",
       "      <td>-0.787623</td>\n",
       "    </tr>\n",
       "    <tr>\n",
       "      <th>API</th>\n",
       "      <td>-0.003739</td>\n",
       "      <td>-0.000182</td>\n",
       "      <td>0.007502</td>\n",
       "      <td>0.002820</td>\n",
       "      <td>0.011413</td>\n",
       "      <td>0.012361</td>\n",
       "      <td>-0.007983</td>\n",
       "      <td>-0.006331</td>\n",
       "      <td>0.011477</td>\n",
       "      <td>-0.002255</td>\n",
       "      <td>1.000000</td>\n",
       "      <td>-0.025694</td>\n",
       "      <td>0.016575</td>\n",
       "      <td>-0.099000</td>\n",
       "    </tr>\n",
       "    <tr>\n",
       "      <th>ANB</th>\n",
       "      <td>-0.013219</td>\n",
       "      <td>-0.010846</td>\n",
       "      <td>0.007321</td>\n",
       "      <td>0.015403</td>\n",
       "      <td>0.008475</td>\n",
       "      <td>0.016492</td>\n",
       "      <td>-0.020511</td>\n",
       "      <td>-0.015529</td>\n",
       "      <td>0.025751</td>\n",
       "      <td>0.020614</td>\n",
       "      <td>-0.025694</td>\n",
       "      <td>1.000000</td>\n",
       "      <td>0.015583</td>\n",
       "      <td>-0.024025</td>\n",
       "    </tr>\n",
       "    <tr>\n",
       "      <th>Expected price</th>\n",
       "      <td>0.009216</td>\n",
       "      <td>0.274507</td>\n",
       "      <td>0.820170</td>\n",
       "      <td>0.715687</td>\n",
       "      <td>0.683659</td>\n",
       "      <td>0.654627</td>\n",
       "      <td>0.007880</td>\n",
       "      <td>0.009346</td>\n",
       "      <td>0.011561</td>\n",
       "      <td>0.714598</td>\n",
       "      <td>0.016575</td>\n",
       "      <td>0.015583</td>\n",
       "      <td>1.000000</td>\n",
       "      <td>-0.760820</td>\n",
       "    </tr>\n",
       "    <tr>\n",
       "      <th>Grade</th>\n",
       "      <td>-0.006074</td>\n",
       "      <td>-0.177332</td>\n",
       "      <td>-0.875145</td>\n",
       "      <td>-0.865389</td>\n",
       "      <td>-0.847319</td>\n",
       "      <td>-0.819280</td>\n",
       "      <td>-0.166635</td>\n",
       "      <td>-0.170259</td>\n",
       "      <td>-0.051200</td>\n",
       "      <td>-0.787623</td>\n",
       "      <td>-0.099000</td>\n",
       "      <td>-0.024025</td>\n",
       "      <td>-0.760820</td>\n",
       "      <td>1.000000</td>\n",
       "    </tr>\n",
       "  </tbody>\n",
       "</table>\n",
       "</div>"
      ],
      "text/plain": [
       "                      Id  Area(total)    Trooms  Nbedrooms  Nbwashrooms  \\\n",
       "Id              1.000000     0.003186  0.003165   0.004814     0.003496   \n",
       "Area(total)     0.003186     1.000000  0.019041   0.031328     0.031819   \n",
       "Trooms          0.003165     0.019041  1.000000   0.865878     0.827072   \n",
       "Nbedrooms       0.004814     0.031328  0.865878   1.000000     0.956578   \n",
       "Nbwashrooms     0.003496     0.031819  0.827072   0.956578     1.000000   \n",
       "Twashrooms      0.001092     0.038509  0.794870   0.919158     0.960007   \n",
       "roof            0.011059     0.014229  0.025142   0.023058     0.028549   \n",
       "Roof(Area)      0.013046     0.017029  0.026550   0.025073     0.028832   \n",
       "Lawn(Area)      0.006309    -0.002118  0.009557   0.000054     0.006617   \n",
       "Nfloors        -0.010939     0.016819  0.862367   0.742132     0.711936   \n",
       "API            -0.003739    -0.000182  0.007502   0.002820     0.011413   \n",
       "ANB            -0.013219    -0.010846  0.007321   0.015403     0.008475   \n",
       "Expected price  0.009216     0.274507  0.820170   0.715687     0.683659   \n",
       "Grade          -0.006074    -0.177332 -0.875145  -0.865389    -0.847319   \n",
       "\n",
       "                Twashrooms      roof  Roof(Area)  Lawn(Area)   Nfloors  \\\n",
       "Id                0.001092  0.011059    0.013046    0.006309 -0.010939   \n",
       "Area(total)       0.038509  0.014229    0.017029   -0.002118  0.016819   \n",
       "Trooms            0.794870  0.025142    0.026550    0.009557  0.862367   \n",
       "Nbedrooms         0.919158  0.023058    0.025073    0.000054  0.742132   \n",
       "Nbwashrooms       0.960007  0.028549    0.028832    0.006617  0.711936   \n",
       "Twashrooms        1.000000  0.028212    0.028763    0.008386  0.684966   \n",
       "roof              0.028212  1.000000    0.976561   -0.004640  0.014985   \n",
       "Roof(Area)        0.028763  0.976561    1.000000   -0.006831  0.013840   \n",
       "Lawn(Area)        0.008386 -0.004640   -0.006831    1.000000  0.013771   \n",
       "Nfloors           0.684966  0.014985    0.013840    0.013771  1.000000   \n",
       "API               0.012361 -0.007983   -0.006331    0.011477 -0.002255   \n",
       "ANB               0.016492 -0.020511   -0.015529    0.025751  0.020614   \n",
       "Expected price    0.654627  0.007880    0.009346    0.011561  0.714598   \n",
       "Grade            -0.819280 -0.166635   -0.170259   -0.051200 -0.787623   \n",
       "\n",
       "                     API       ANB  Expected price     Grade  \n",
       "Id             -0.003739 -0.013219        0.009216 -0.006074  \n",
       "Area(total)    -0.000182 -0.010846        0.274507 -0.177332  \n",
       "Trooms          0.007502  0.007321        0.820170 -0.875145  \n",
       "Nbedrooms       0.002820  0.015403        0.715687 -0.865389  \n",
       "Nbwashrooms     0.011413  0.008475        0.683659 -0.847319  \n",
       "Twashrooms      0.012361  0.016492        0.654627 -0.819280  \n",
       "roof           -0.007983 -0.020511        0.007880 -0.166635  \n",
       "Roof(Area)     -0.006331 -0.015529        0.009346 -0.170259  \n",
       "Lawn(Area)      0.011477  0.025751        0.011561 -0.051200  \n",
       "Nfloors        -0.002255  0.020614        0.714598 -0.787623  \n",
       "API             1.000000 -0.025694        0.016575 -0.099000  \n",
       "ANB            -0.025694  1.000000        0.015583 -0.024025  \n",
       "Expected price  0.016575  0.015583        1.000000 -0.760820  \n",
       "Grade          -0.099000 -0.024025       -0.760820  1.000000  "
      ]
     },
     "execution_count": 19,
     "metadata": {},
     "output_type": "execute_result"
    }
   ],
   "source": [
    "cor=df.corr()\n",
    "cor"
   ]
  },
  {
   "cell_type": "markdown",
   "id": "379e6a4e",
   "metadata": {},
   "source": [
    "#### Ploting heatmap"
   ]
  },
  {
   "cell_type": "code",
   "execution_count": 20,
   "id": "f661110f",
   "metadata": {},
   "outputs": [
    {
     "data": {
      "image/png": "[encoded data removed]",
      "text/plain": [
       "<Figure size 640x480 with 2 Axes>"
      ]
     },
     "metadata": {},
     "output_type": "display_data"
    }
   ],
   "source": [
    "sns.heatmap(cor)\n",
    "plt.show()"
   ]
  },
  {
   "cell_type": "markdown",
   "id": "31912f9a",
   "metadata": {},
   "source": [
    "#### Feature selection"
   ]
  },
  {
   "cell_type": "code",
   "execution_count": 21,
   "id": "2af7998d",
   "metadata": {},
   "outputs": [],
   "source": [
    "X=df.drop(columns='Grade',axis=1)\n",
    "Y=df.Grade"
   ]
  },
  {
   "cell_type": "markdown",
   "id": "ada55c9f",
   "metadata": {},
   "source": [
    "#### Scaling"
   ]
  },
  {
   "cell_type": "code",
   "execution_count": 22,
   "id": "38e52e67",
   "metadata": {},
   "outputs": [],
   "source": [
    "from sklearn.preprocessing import MinMaxScaler\n",
    "scaler=MinMaxScaler()"
   ]
  },
  {
   "cell_type": "code",
   "execution_count": 23,
   "id": "045ed324",
   "metadata": {},
   "outputs": [],
   "source": [
    "X=scaler.fit_transform(X)"
   ]
  },
  {
   "cell_type": "markdown",
   "id": "053cb889",
   "metadata": {},
   "source": [
    "### Model building using Logistic Regression"
   ]
  },
  {
   "cell_type": "code",
   "execution_count": 24,
   "id": "df959896",
   "metadata": {},
   "outputs": [],
   "source": [
    "from sklearn.linear_model import LogisticRegression\n",
    "from sklearn.model_selection import cross_val_score,RepeatedStratifiedKFold,train_test_split"
   ]
  },
  {
   "cell_type": "code",
   "execution_count": 25,
   "id": "59aa1ab3",
   "metadata": {},
   "outputs": [
    {
     "name": "stdout",
     "output_type": "stream",
     "text": [
      "Accuracy_Score: 0.920\n"
     ]
    }
   ],
   "source": [
    "Log_model = LogisticRegression()\n",
    "\n",
    "cv = RepeatedStratifiedKFold(n_splits=5,n_repeats=4, random_state=45)\n",
    "n_scores = cross_val_score(Log_model,X,Y, scoring='accuracy', cv=cv, n_jobs=-1,\n",
    "                           error_score='raise')\n",
    "\n",
    "print('Accuracy_Score: %.3f' % np.mean(n_scores))"
   ]
  },
  {
   "cell_type": "markdown",
   "id": "0824391f",
   "metadata": {},
   "source": [
    "#### Summary of Logistic Regression :\n",
    "* This is Baseline model Logistic Regression.\n",
    "* The Accuracy of the model is 92% which is nothing but the over all performance of the model is excellent.\n",
    "* We can use to model for predictions,but let's check for other models also."
   ]
  },
  {
   "cell_type": "markdown",
   "id": "b7e48717",
   "metadata": {},
   "source": [
    "### Model Building using Naive Bayes"
   ]
  },
  {
   "cell_type": "code",
   "execution_count": 26,
   "id": "6b3fbd2f",
   "metadata": {},
   "outputs": [],
   "source": [
    "from sklearn.naive_bayes import GaussianNB"
   ]
  },
  {
   "cell_type": "code",
   "execution_count": 27,
   "id": "a9b5a428",
   "metadata": {},
   "outputs": [
    {
     "name": "stdout",
     "output_type": "stream",
     "text": [
      "Accuracy_Score: 0.802\n"
     ]
    }
   ],
   "source": [
    "Naive_model = GaussianNB()\n",
    "\n",
    "cv = RepeatedStratifiedKFold(n_splits=5,n_repeats=4, random_state=45)\n",
    "n_scores = cross_val_score(Naive_model,X,Y, scoring='accuracy', cv=cv, n_jobs=-1,\n",
    "                           error_score='raise')\n",
    "\n",
    "print('Accuracy_Score: %.3f' % np.mean(n_scores))"
   ]
  },
  {
   "cell_type": "markdown",
   "id": "63ea2d60",
   "metadata": {},
   "source": [
    "#### Summary of Naive Bayes model :\n",
    "* This is Naive bayes model.\n",
    "* The Accuracy of model is 80% which is over all performance of the model is good.\n",
    "* Lets check for other classification models."
   ]
  },
  {
   "cell_type": "markdown",
   "id": "e347784e",
   "metadata": {},
   "source": [
    "### Model building using Decisiontree classifier"
   ]
  },
  {
   "cell_type": "code",
   "execution_count": 28,
   "id": "0c353c63",
   "metadata": {},
   "outputs": [],
   "source": [
    "from sklearn.tree import DecisionTreeClassifier"
   ]
  },
  {
   "cell_type": "code",
   "execution_count": 29,
   "id": "727ca9ed",
   "metadata": {},
   "outputs": [
    {
     "name": "stdout",
     "output_type": "stream",
     "text": [
      "Accuracy_Score: 0.841\n"
     ]
    }
   ],
   "source": [
    "Decision_model = DecisionTreeClassifier()\n",
    "\n",
    "cv = RepeatedStratifiedKFold(n_splits=5,n_repeats=4, random_state=45)\n",
    "n_scores = cross_val_score(Decision_model,X,Y, scoring='accuracy', cv=cv, n_jobs=-1,\n",
    "                           error_score='raise')\n",
    "\n",
    "print('Accuracy_Score: %.3f' % np.mean(n_scores))"
   ]
  },
  {
   "cell_type": "markdown",
   "id": "2dfde86d",
   "metadata": {},
   "source": [
    "#### Summary of Decision Tree classifier :\n",
    "* This is Decision tree classifier.\n",
    "* The accuracy of this model is nearly 84% which is nothing but overall performance of the model is better but not then Logistic regression.\n",
    "* Let's check for other models."
   ]
  },
  {
   "cell_type": "markdown",
   "id": "89becfcb",
   "metadata": {},
   "source": [
    "### Random forest classifier"
   ]
  },
  {
   "cell_type": "code",
   "execution_count": 30,
   "id": "fb202a42",
   "metadata": {},
   "outputs": [],
   "source": [
    "from sklearn.ensemble import RandomForestClassifier"
   ]
  },
  {
   "cell_type": "code",
   "execution_count": 31,
   "id": "a4a31200",
   "metadata": {},
   "outputs": [
    {
     "name": "stdout",
     "output_type": "stream",
     "text": [
      "Accuracy_Score: 0.899\n"
     ]
    }
   ],
   "source": [
    "RandomForest_model = RandomForestClassifier()\n",
    "\n",
    "cv = RepeatedStratifiedKFold(n_splits=5,n_repeats=4, random_state=45)\n",
    "n_scores = cross_val_score(RandomForest_model,X,Y, scoring='accuracy', cv=cv, n_jobs=-1,\n",
    "                           error_score='raise')\n",
    "\n",
    "print('Accuracy_Score: %.3f' % np.mean(n_scores))"
   ]
  },
  {
   "cell_type": "markdown",
   "id": "c91de264",
   "metadata": {},
   "source": [
    "#### Summary of Randomforest Classifier :\n",
    "* This is RandomForest Classifier.\n",
    "* The Accuracy of this model is nealy 90% which is nothing but the overall performance of the model is excellent.\n",
    "* But Accuracy of the logistic regression is 90% ,little bit better then this model."
   ]
  },
  {
   "cell_type": "markdown",
   "id": "abd0aca9",
   "metadata": {},
   "source": [
    "### Random forest using hyperparameters"
   ]
  },
  {
   "cell_type": "code",
   "execution_count": 32,
   "id": "64ab0903",
   "metadata": {},
   "outputs": [
    {
     "name": "stdout",
     "output_type": "stream",
     "text": [
      "Accuracy_Score: 0.841\n"
     ]
    }
   ],
   "source": [
    "RandomForest_Hyper = RandomForestClassifier(random_state=42, n_jobs=-1, max_depth=5,\n",
    "                                            n_estimators=100, oob_score=True)\n",
    "\n",
    "cv = RepeatedStratifiedKFold(n_splits=5,n_repeats=4, random_state=45)\n",
    "n_scores = cross_val_score(RandomForest_Hyper,X,Y, scoring='accuracy', cv=cv, n_jobs=-1,\n",
    "                           error_score='raise')\n",
    "\n",
    "print('Accuracy_Score: %.3f' % np.mean(n_scores))"
   ]
  },
  {
   "cell_type": "markdown",
   "id": "0e75b71f",
   "metadata": {},
   "source": [
    "#### Summary of RandomForest classifer using Hyperparameters :\n",
    "* Accuracy of this model is 84% which is nothing but the over all performance of the model.\n",
    "* After tuning model with hyperparameter the performance of the model is decreasing."
   ]
  },
  {
   "cell_type": "markdown",
   "id": "4a34bdbd",
   "metadata": {},
   "source": [
    "### Hyper tuning for RandomForest using Gridsearchcv"
   ]
  },
  {
   "cell_type": "code",
   "execution_count": 33,
   "id": "d865b311",
   "metadata": {},
   "outputs": [],
   "source": [
    "x_train,x_test,y_train,y_test=train_test_split(X,Y,test_size=0.2,random_state=22)"
   ]
  },
  {
   "cell_type": "code",
   "execution_count": 34,
   "id": "13adb01f",
   "metadata": {},
   "outputs": [],
   "source": [
    "rf = RandomForestClassifier(random_state=42, n_jobs=-1)"
   ]
  },
  {
   "cell_type": "code",
   "execution_count": 35,
   "id": "5a8a5ab2",
   "metadata": {},
   "outputs": [],
   "source": [
    "params = {\n",
    " 'max_depth': [2,3,5,10,20],\n",
    " 'min_samples_leaf': [5,10,20,50,100,200],\n",
    " 'n_estimators': [10,25,30,50,100,200]\n",
    "}"
   ]
  },
  {
   "cell_type": "code",
   "execution_count": 36,
   "id": "2cdcacd4",
   "metadata": {},
   "outputs": [],
   "source": [
    "from sklearn.model_selection import GridSearchCV"
   ]
  },
  {
   "cell_type": "code",
   "execution_count": 37,
   "id": "147b8879",
   "metadata": {},
   "outputs": [],
   "source": [
    "grid_search = GridSearchCV(estimator=rf,\n",
    " param_grid=params,\n",
    " cv = 4,\n",
    " n_jobs=-1, verbose=1, scoring=\"accuracy\")"
   ]
  },
  {
   "cell_type": "code",
   "execution_count": 38,
   "id": "994e2698",
   "metadata": {},
   "outputs": [
    {
     "name": "stdout",
     "output_type": "stream",
     "text": [
      "Fitting 4 folds for each of 180 candidates, totalling 720 fits\n",
      "Wall time: 26.7 s\n"
     ]
    },
    {
     "data": {
      "text/plain": [
       "GridSearchCV(cv=4, estimator=RandomForestClassifier(n_jobs=-1, random_state=42),\n",
       "             n_jobs=-1,\n",
       "             param_grid={'max_depth': [2, 3, 5, 10, 20],\n",
       "                         'min_samples_leaf': [5, 10, 20, 50, 100, 200],\n",
       "                         'n_estimators': [10, 25, 30, 50, 100, 200]},\n",
       "             scoring='accuracy', verbose=1)"
      ]
     },
     "execution_count": 38,
     "metadata": {},
     "output_type": "execute_result"
    }
   ],
   "source": [
    "%%time\n",
    "grid_search.fit(x_train, y_train)"
   ]
  },
  {
   "cell_type": "code",
   "execution_count": 39,
   "id": "aa8dbb99",
   "metadata": {},
   "outputs": [
    {
     "data": {
      "text/plain": [
       "0.88"
      ]
     },
     "execution_count": 39,
     "metadata": {},
     "output_type": "execute_result"
    }
   ],
   "source": [
    "grid_search.best_score_"
   ]
  },
  {
   "cell_type": "code",
   "execution_count": 40,
   "id": "84636bc5",
   "metadata": {},
   "outputs": [
    {
     "data": {
      "text/plain": [
       "RandomForestClassifier(max_depth=20, min_samples_leaf=5, n_estimators=50,\n",
       "                       n_jobs=-1, random_state=42)"
      ]
     },
     "execution_count": 40,
     "metadata": {},
     "output_type": "execute_result"
    }
   ],
   "source": [
    "grid_search.best_estimator_"
   ]
  },
  {
   "cell_type": "markdown",
   "id": "28c9b18d",
   "metadata": {},
   "source": [
    "### Random forest using best estimators from GridSearchCv"
   ]
  },
  {
   "cell_type": "code",
   "execution_count": 41,
   "id": "c1a424b7",
   "metadata": {},
   "outputs": [
    {
     "name": "stdout",
     "output_type": "stream",
     "text": [
      "Accuracy_Score: 0.885\n"
     ]
    }
   ],
   "source": [
    "rf_model=RandomForestClassifier(max_depth=20, min_samples_leaf=5, n_estimators=50,\n",
    "                       n_jobs=-1, random_state=42)\n",
    "cv = RepeatedStratifiedKFold(n_splits=5,n_repeats=4, random_state=45)\n",
    "n_scores = cross_val_score(rf_model,X,Y, scoring='accuracy', cv=cv, n_jobs=-1,\n",
    "                           error_score='raise')\n",
    "\n",
    "print('Accuracy_Score: %.3f' % np.mean(n_scores))"
   ]
  },
  {
   "cell_type": "markdown",
   "id": "f96d6622",
   "metadata": {},
   "source": [
    "#### Summary of Randomforest Classifier using best estimators from GridSearchCV :\n",
    "* In this model hyperparameters are used from best estimators GridSeachCV.\n",
    "* Accuracy of this model is 88% which is nothing but the over all percentage of this model is best.\n",
    "* But Logistic regression is obtained best Accuracy_score till now."
   ]
  },
  {
   "cell_type": "markdown",
   "id": "b576f5b2",
   "metadata": {},
   "source": [
    "### Model building using Adaboost Classifier"
   ]
  },
  {
   "cell_type": "code",
   "execution_count": 42,
   "id": "6075b8f5",
   "metadata": {},
   "outputs": [],
   "source": [
    "from sklearn.ensemble import AdaBoostClassifier"
   ]
  },
  {
   "cell_type": "code",
   "execution_count": 43,
   "id": "28b03446",
   "metadata": {},
   "outputs": [
    {
     "name": "stdout",
     "output_type": "stream",
     "text": [
      "Accuracy_Score: 0.605\n"
     ]
    }
   ],
   "source": [
    "ada_model=AdaBoostClassifier()\n",
    "\n",
    "cv = RepeatedStratifiedKFold(n_splits=5,n_repeats=4, random_state=42)\n",
    "n_scores = cross_val_score(ada_model,X,Y, scoring='accuracy', cv=cv, n_jobs=-1, \n",
    "                           error_score='raise')\n",
    "\n",
    "print('Accuracy_Score: %.3f' % np.mean(n_scores))"
   ]
  },
  {
   "cell_type": "markdown",
   "id": "cebc2336",
   "metadata": {},
   "source": [
    "#### Summary of AdaBoostClassifier :\n",
    "* This is Adaboost classifier model.\n",
    "* The accuracy of this model obtained is 60 % which nothing but overall performance of the model.\n",
    "* Model is performing very poor."
   ]
  },
  {
   "cell_type": "markdown",
   "id": "5c189bb4",
   "metadata": {},
   "source": [
    "### Model building using KNearestNeighbors"
   ]
  },
  {
   "cell_type": "code",
   "execution_count": 44,
   "id": "10f204d8",
   "metadata": {},
   "outputs": [],
   "source": [
    "from sklearn.neighbors import KNeighborsClassifier"
   ]
  },
  {
   "cell_type": "code",
   "execution_count": 45,
   "id": "d6ccd650",
   "metadata": {},
   "outputs": [
    {
     "name": "stdout",
     "output_type": "stream",
     "text": [
      "Minimum error:- 0.115 at K = 13\n"
     ]
    },
    {
     "data": {
      "image/png": "[encoded data removed]",
      "text/plain": [
       "<Figure size 800x400 with 1 Axes>"
      ]
     },
     "metadata": {},
     "output_type": "display_data"
    }
   ],
   "source": [
    "error_rate = []\n",
    "for i in range(1,15):\n",
    "    knn = KNeighborsClassifier(n_neighbors=i)\n",
    "    knn.fit(x_train,y_train)\n",
    "    pred_i = knn.predict(x_test)\n",
    "    error_rate.append(np.mean(pred_i != y_test))\n",
    "    \n",
    "plt.figure(figsize=(8,4))\n",
    "plt.plot(range(1,15),error_rate,color='blue', linestyle='dashed', marker='o',markerfacecolor='red', markersize=10)\n",
    "plt.title('Error Rate vs. K Value')\n",
    "plt.xlabel('K')\n",
    "plt.ylabel('Error Rate')\n",
    "print(\"Minimum error:-\",min(error_rate),\"at K =\",error_rate.index(min(error_rate))+1)"
   ]
  },
  {
   "cell_type": "code",
   "execution_count": 46,
   "id": "b3e8c535",
   "metadata": {},
   "outputs": [
    {
     "name": "stdout",
     "output_type": "stream",
     "text": [
      "Accuracy_Score: 0.873\n"
     ]
    }
   ],
   "source": [
    "Knn_model=KNeighborsClassifier(n_neighbors=13)\n",
    "\n",
    "cv = RepeatedStratifiedKFold(n_splits=5,n_repeats=4, random_state=42)\n",
    "n_scores = cross_val_score(Knn_model,X,Y, scoring='accuracy', cv=cv, n_jobs=-1, \n",
    "                           error_score='raise')\n",
    "\n",
    "print('Accuracy_Score: %.3f' % np.mean(n_scores))"
   ]
  },
  {
   "cell_type": "markdown",
   "id": "7bd62043",
   "metadata": {},
   "source": [
    "#### Summary of KNN :\n",
    "* This is KneighborClassifier model.\n",
    "* Finding the best k value using error rate,and building the model with that.\n",
    "* Accuracy of this model is 87% which is nothing but the over all performance of the model is better."
   ]
  },
  {
   "cell_type": "markdown",
   "id": "dc6a6404",
   "metadata": {},
   "source": [
    "### Model building using Stacking"
   ]
  },
  {
   "cell_type": "code",
   "execution_count": 47,
   "id": "940cd871",
   "metadata": {},
   "outputs": [],
   "source": [
    "from sklearn.svm import SVC\n",
    "from sklearn.ensemble import StackingClassifier"
   ]
  },
  {
   "cell_type": "code",
   "execution_count": 48,
   "id": "a3c09a54",
   "metadata": {},
   "outputs": [],
   "source": [
    "def get_stacking():\n",
    "\n",
    "    level0 = list()\n",
    "    level0.append(('lr', LogisticRegression()))\n",
    "    level0.append(('knn', KNeighborsClassifier()))\n",
    "    level0.append(('cart', DecisionTreeClassifier()))\n",
    "    level0.append(('svm', SVC()))\n",
    "    level0.append(('bayes', GaussianNB()))\n",
    "    \n",
    "    level1 = LogisticRegression()\n",
    "    \n",
    "    model = StackingClassifier(estimators=level0, final_estimator=level1, cv=5)\n",
    "    return model"
   ]
  },
  {
   "cell_type": "code",
   "execution_count": 49,
   "id": "ab3183ec",
   "metadata": {},
   "outputs": [
    {
     "name": "stdout",
     "output_type": "stream",
     "text": [
      "Accuracy_Score: 0.946\n"
     ]
    }
   ],
   "source": [
    "Stacking_model = get_stacking()\n",
    "\n",
    "# evaluate the model\n",
    "cv = RepeatedStratifiedKFold(n_splits=5,n_repeats=4, random_state=42)\n",
    "n_scores = cross_val_score(Stacking_model,X,Y, scoring='accuracy', cv=cv, n_jobs=-1, \n",
    "                           error_score='raise')\n",
    "\n",
    "print('Accuracy_Score: %.3f' % np.mean(n_scores))"
   ]
  },
  {
   "cell_type": "markdown",
   "id": "79427baa",
   "metadata": {},
   "source": [
    "#### Summary of StackingClassifier :\n",
    "* In this Stacking Regressor model, i have took many base regression algorithms like\n",
    "    * 1) Logistic regression\n",
    "    * 2) Decision tree classifier\n",
    "    * 4) KNeighborClassifier\n",
    "    * 5) SVC\n",
    "    * 7) Stacking classifier with logistic regression as meta model\n",
    "* And the Meta model is Logistic Regression.\n",
    "* Coming to the performance of Stacking Classifier, evaluating model with accuracy , we got nearly 94.6% percentage which is best performance till now .\n",
    "* So Stacking classifier is the best model."
   ]
  },
  {
   "cell_type": "markdown",
   "id": "d5ee93cb",
   "metadata": {},
   "source": [
    "### Making predictions using best models"
   ]
  },
  {
   "cell_type": "markdown",
   "id": "31e6c001",
   "metadata": {},
   "source": [
    "* From all the model like\n",
    "    * 1) Logistic regression\n",
    "    * 2) Decision tree classifier\n",
    "    * 3) Random forest classifier with hyperparameters\n",
    "    * 4) Random forest classifier using best estimators from Gridsearchcv\n",
    "    * 5) Adaboost classifier\n",
    "    * 6) Knn classifier\n",
    "    * 7) Stacking classifier with logistic regression as meta model\n",
    "* Stacking is having more highest 'accuracy score' nearly 94.6 percentage.\n",
    "* So now predicting the Grade using that best model."
   ]
  },
  {
   "cell_type": "code",
   "execution_count": 50,
   "id": "2ad754aa",
   "metadata": {},
   "outputs": [],
   "source": [
    "model=Stacking_model.fit(x_train,y_train)"
   ]
  },
  {
   "cell_type": "markdown",
   "id": "feda822d",
   "metadata": {},
   "source": [
    "#### Score of best model in train and test dataset"
   ]
  },
  {
   "cell_type": "code",
   "execution_count": 51,
   "id": "06a28f36",
   "metadata": {},
   "outputs": [
    {
     "name": "stdout",
     "output_type": "stream",
     "text": [
      "Accuracy of the training dataset : 0.9733333333333334\n",
      "Accuracy of the testing dataset : 0.9566666666666667\n"
     ]
    }
   ],
   "source": [
    "print('Accuracy of the training dataset :',model.score(x_train,y_train))\n",
    "print('Accuracy of the testing dataset :',model.score(x_test,y_test))"
   ]
  },
  {
   "cell_type": "code",
   "execution_count": 52,
   "id": "b4200f75",
   "metadata": {},
   "outputs": [
    {
     "data": {
      "text/plain": [
       "array([3, 3, 3, 3, 1, 2, 1, 2, 3, 2, 3, 2, 1, 2, 3, 2, 3, 3, 2, 3, 4, 2,\n",
       "       2, 1, 4, 3, 2, 3, 3, 3, 3, 0, 1, 1, 3, 2, 0, 2, 0, 3, 3, 1, 3, 3,\n",
       "       0, 2, 3, 3, 2, 2, 3, 1, 3, 3, 3, 3, 0, 3, 3, 3, 0, 2, 1, 2, 3, 3,\n",
       "       3, 2, 3, 1, 3, 1, 3, 3, 3, 0, 3, 2, 0, 3, 0, 0, 3, 3, 1, 2, 0, 0,\n",
       "       1, 0, 1, 3, 2, 1, 0, 0, 3, 0, 3, 2, 4, 1, 2, 1, 3, 3, 0, 0, 2, 0,\n",
       "       2, 3, 2, 3, 3, 1, 2, 0, 3, 1, 2, 2, 3, 1, 3, 3, 1, 2, 2, 1, 4, 1,\n",
       "       2, 3, 3, 1, 3, 2, 0, 2, 3, 2, 3, 3, 1, 1, 2, 1, 0, 3, 3, 3, 2, 2,\n",
       "       3, 3, 2, 2, 3, 0, 2, 1, 0, 2, 2, 3, 2, 3, 0, 2, 1, 2, 3, 3, 3, 3,\n",
       "       3, 2, 2, 1, 3, 1, 1, 3, 3, 1, 1, 1, 0, 3, 3, 2, 3, 1, 3, 3, 3, 2,\n",
       "       2, 1, 2, 3, 1, 3, 1, 3, 3, 2, 3, 3, 3, 3, 3, 3, 2, 3, 1, 2, 3, 1,\n",
       "       0, 0, 2, 0, 3, 0, 2, 1, 3, 2, 3, 3, 2, 4, 3, 0, 3, 1, 3, 3, 2, 3,\n",
       "       1, 2, 3, 3, 1, 1, 3, 3, 3, 2, 1, 3, 3, 2, 3, 1, 3, 2, 0, 0, 2, 2,\n",
       "       2, 0, 2, 3, 3, 2, 2, 0, 0, 2, 3, 1, 3, 3, 3, 3, 2, 1, 3, 3, 2, 1,\n",
       "       3, 2, 1, 2, 1, 2, 3, 2, 3, 3, 3, 3, 2, 2, 2, 3, 2, 0, 1, 3, 3, 3,\n",
       "       3, 0, 0, 3, 3, 2, 1, 3, 3, 2, 3, 0, 1, 3, 3, 1, 0, 1, 2, 0, 3, 3,\n",
       "       2, 2, 1, 2, 0, 1, 2, 3, 2, 1, 3, 3, 3, 2, 1, 1, 2, 0, 4, 1, 3, 3,\n",
       "       3, 3, 1, 2, 2, 3, 3, 0, 3, 3, 2, 0, 3, 1, 2, 2, 1, 1, 0, 1, 0, 3,\n",
       "       0, 1, 3, 2, 1, 0, 1, 3, 0, 3, 3, 1, 2, 3, 2, 2, 3, 3, 3, 2, 2, 3,\n",
       "       3, 0, 2, 3, 3, 1, 0, 2, 2, 3, 3, 1, 2, 3, 3, 1, 2, 1, 1, 3, 3, 0,\n",
       "       1, 2, 3, 2, 3, 3, 1, 3, 2, 1, 2, 3, 4, 3, 3, 3, 2, 1, 1, 1, 2, 0,\n",
       "       0, 1, 3, 3, 0, 3, 0, 2, 0, 2, 2, 3, 2, 1, 1, 3, 1, 2, 0, 3, 2, 0,\n",
       "       3, 1, 3, 3, 3, 3, 3, 3, 0, 3, 3, 1, 3, 3, 0, 2, 3, 0, 2, 2, 2, 2,\n",
       "       0, 0, 2, 1, 3, 3, 2, 3, 3, 1, 1, 0, 2, 3, 3, 1, 3, 3, 1, 3, 2, 1,\n",
       "       3, 4, 2, 3, 1, 1, 3, 3, 1, 3, 3, 3, 0, 2, 3, 3, 1, 1, 2, 2, 2, 0,\n",
       "       2, 1, 0, 0, 3, 2, 1, 1, 3, 2, 3, 3, 2, 1, 2, 2, 0, 4, 3, 4, 2, 2,\n",
       "       3, 1, 3, 3, 3, 1, 0, 0, 3, 3, 3, 0, 2, 3, 3, 2, 1, 3, 1, 2, 3, 3,\n",
       "       3, 2, 2, 3, 1, 0, 1, 2, 3, 3, 2, 3, 3, 1, 3, 3, 3, 3, 3, 2, 1, 3,\n",
       "       2, 3, 3, 0, 2, 2])"
      ]
     },
     "execution_count": 52,
     "metadata": {},
     "output_type": "execute_result"
    }
   ],
   "source": [
    "y_pred=model.predict(x_test)\n",
    "y_pred"
   ]
  },
  {
   "cell_type": "markdown",
   "id": "224541b7",
   "metadata": {},
   "source": [
    "#### Evaluating the best model(Stacking classifier)"
   ]
  },
  {
   "cell_type": "code",
   "execution_count": 53,
   "id": "99a2e293",
   "metadata": {},
   "outputs": [],
   "source": [
    "from sklearn.metrics import confusion_matrix,precision_score,recall_score,f1_score,accuracy_score"
   ]
  },
  {
   "cell_type": "markdown",
   "id": "01d516f1",
   "metadata": {},
   "source": [
    "#### Confusion matrix"
   ]
  },
  {
   "cell_type": "code",
   "execution_count": 54,
   "id": "a1b01c8e",
   "metadata": {},
   "outputs": [
    {
     "data": {
      "text/plain": [
       "array([[ 74,   4,   0,   0,   0],\n",
       "       [  3, 108,   4,   0,   0],\n",
       "       [  0,   1, 145,   9,   0],\n",
       "       [  0,   0,   3, 237,   0],\n",
       "       [  0,   0,   0,   2,  10]], dtype=int64)"
      ]
     },
     "execution_count": 54,
     "metadata": {},
     "output_type": "execute_result"
    }
   ],
   "source": [
    "confusion_matrix(y_test,y_pred)"
   ]
  },
  {
   "cell_type": "markdown",
   "id": "f3214915",
   "metadata": {},
   "source": [
    "#### Accuracy_Score"
   ]
  },
  {
   "cell_type": "code",
   "execution_count": 55,
   "id": "c04db0f0",
   "metadata": {},
   "outputs": [
    {
     "name": "stdout",
     "output_type": "stream",
     "text": [
      "Accuracy_score : 0.9566666666666667\n"
     ]
    }
   ],
   "source": [
    "print('Accuracy_score :',accuracy_score(y_test,y_pred))"
   ]
  },
  {
   "cell_type": "markdown",
   "id": "08ceadaf",
   "metadata": {},
   "source": [
    "#### Precision_Score"
   ]
  },
  {
   "cell_type": "code",
   "execution_count": 56,
   "id": "317c522e",
   "metadata": {},
   "outputs": [
    {
     "name": "stdout",
     "output_type": "stream",
     "text": [
      "Precision_score : 0.9568153736679305\n"
     ]
    }
   ],
   "source": [
    "print('Precision_score :',precision_score(y_test,y_pred,average='weighted'))"
   ]
  },
  {
   "cell_type": "markdown",
   "id": "ad2a34d1",
   "metadata": {},
   "source": [
    "#### Recall_Score"
   ]
  },
  {
   "cell_type": "code",
   "execution_count": 57,
   "id": "735f8bae",
   "metadata": {},
   "outputs": [
    {
     "name": "stdout",
     "output_type": "stream",
     "text": [
      "Recall_score : 0.9566666666666667\n"
     ]
    }
   ],
   "source": [
    "print('Recall_score :',recall_score(y_test,y_pred,average='weighted'))"
   ]
  },
  {
   "cell_type": "markdown",
   "id": "8b954806",
   "metadata": {},
   "source": [
    "#### F1-Score"
   ]
  },
  {
   "cell_type": "code",
   "execution_count": 58,
   "id": "0c4c9546",
   "metadata": {},
   "outputs": [
    {
     "name": "stdout",
     "output_type": "stream",
     "text": [
      "f1_score : 0.9564426181568202\n"
     ]
    }
   ],
   "source": [
    "print('f1_score :',f1_score(y_test,y_pred,average='weighted'))"
   ]
  },
  {
   "cell_type": "markdown",
   "id": "1b8264c9",
   "metadata": {},
   "source": [
    "### Summary:"
   ]
  },
  {
   "cell_type": "markdown",
   "id": "4ed1214e",
   "metadata": {},
   "source": [
    "* Main intention of this project is to build a best Classification model to predict the Grade of Houses.\n",
    "* For building Classification model of this project, i have used some Classification algorithms like:\n",
    "    * 1) Logistic regression\n",
    "    * 2) Decision tree classifier\n",
    "    * 3) Random forest classifier with hyperparameters\n",
    "    * 4) Random forest classifier using best estimators from Gridsearchcv\n",
    "    * 5) Adaboost classifier\n",
    "    * 6) Knn classifier\n",
    "    * 7) Stacking classifier with logistic regression as meta model\n",
    "* Understanding data using data preprocessing and Exploratory Data Analysis.\n",
    "* Best model is choosen from all the above models from their performance and which is evaluated by cross_val_score with 'accuracy' as scoring .\n",
    "* `Stacking classifier with logistic regression as meta model is having the Highest accuracy_score of 94.6%, which is best comparatively to other models.`\n",
    "* Building Best model with,by training and fitting to model.\n",
    "* The Final scoring of my best model have improved very much.\n",
    "* `Scoring of train dataset is nearly 97.3%.`\n",
    "* `Scoring of test dataset is nearly 95.8%.`\n",
    "* Made prediction using this best model.\n",
    "* And evaluation of model using :\n",
    "     * `Accuracy_Score = 95.83%`\n",
    "     * `Precision_Score = 95.85%`\n",
    "     * `Recall_Score = 95.83%`\n",
    "     * `F1_Score = 95.81`\n",
    "*` Finally, performace of the model is improved with accuracy of 94.6%,and Now this model is ready to use for the futher prediction of House Grades.`"
   ]
  },
  {
   "cell_type": "markdown",
   "id": "74c38518",
   "metadata": {},
   "source": [
    "### Conclusion : "
   ]
  },
  {
   "cell_type": "markdown",
   "id": "3c5ea142",
   "metadata": {},
   "source": [
    "After conducting a comprehensive analysis of the provided dataset, a classification model was built to predict the grade of houses. The model building process involved using several classification algorithms, including logistic regression, decision tree classifier, random forest classifier with hyperparameters, random forest classifier using best estimators from Gridsearchcv, Adaboost classifier, KNN classifier, and Stacking classifier with logistic regression as a meta-model.\n",
    "\n",
    "To evaluate the performance of these algorithms, cross_val_score was used with 'accuracy' as the scoring parameter. The results showed that the stacking classifier with logistic regression as a meta-model performed the best with an accuracy score of 94.6%.\n",
    "\n",
    "To improve the model's performance, it was trained and fitted to the data. The model's scoring on the training dataset was found to be nearly 97.3%, indicating its ability to learn from the data. The performance on the test dataset was also impressive with an accuracy score of 95.8%.\n",
    "\n",
    "The best model was then used to make predictions, and its performance was evaluated using different metrics such as accuracy score, precision score, recall score, and F1 score. The results showed that the model's performance was quite good, with an accuracy score of 95.83%.\n",
    "\n",
    "In conclusion, a highly accurate classification model has been built to predict the grade of houses.This model can be used for further predictions of house grades with confidence, and it has the potential to assist in decision-making processes related to real estate investments, sales, and purchases."
   ]
  }
 ],
 "metadata": {
  "kernelspec": {
   "display_name": "Python 3 (ipykernel)",
   "language": "python",
   "name": "python3"
  },
  "language_info": {
   "codemirror_mode": {
    "name": "ipython",
    "version": 3
   },
   "file_extension": ".py",
   "mimetype": "text/x-python",
   "name": "python",
   "nbconvert_exporter": "python",
   "pygments_lexer": "ipython3",
   "version": "3.9.13"
  }
 },
 "nbformat": 4,
 "nbformat_minor": 5
}
